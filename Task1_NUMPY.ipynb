{
  "nbformat": 4,
  "nbformat_minor": 0,
  "metadata": {
    "colab": {
      "provenance": [],
      "include_colab_link": true
    },
    "kernelspec": {
      "name": "python3",
      "display_name": "Python 3"
    },
    "language_info": {
      "name": "python"
    }
  },
  "cells": [
    {
      "cell_type": "markdown",
      "metadata": {
        "id": "view-in-github",
        "colab_type": "text"
      },
      "source": [
        "<a href=\"https://colab.research.google.com/github/JAYANTHSOLUTIONS/Data-science-/blob/main/Task1_NUMPY.ipynb\" target=\"_parent\"><img src=\"https://colab.research.google.com/assets/colab-badge.svg\" alt=\"Open In Colab\"/></a>"
      ]
    },
    {
      "cell_type": "markdown",
      "source": [
        "IMPORTING LIBRARY FUNCTIONS"
      ],
      "metadata": {
        "id": "PUygpGJjhFlU"
      }
    },
    {
      "cell_type": "code",
      "execution_count": null,
      "metadata": {
        "id": "efb_o6Gxa9r1"
      },
      "outputs": [],
      "source": [
        "import numpy as np\n",
        "import pandas as pd"
      ]
    },
    {
      "cell_type": "markdown",
      "source": [
        "OPEN AND READING CSV FILES"
      ],
      "metadata": {
        "id": "x17uhmIthNb5"
      }
    },
    {
      "cell_type": "markdown",
      "source": [
        "NUMPY ARRAY OPERATIONS"
      ],
      "metadata": {
        "id": "m29vb_c1hVt5"
      }
    },
    {
      "cell_type": "code",
      "source": [
        "#creating arrays\n",
        "a = np.array([1,2,3,4])\n",
        "a"
      ],
      "metadata": {
        "colab": {
          "base_uri": "https://localhost:8080/"
        },
        "id": "OmbBA9vOcZ1a",
        "outputId": "95fc8504-3a3f-4809-9789-dbbb567ca1b0"
      },
      "execution_count": null,
      "outputs": [
        {
          "output_type": "execute_result",
          "data": {
            "text/plain": [
              "array([1, 2, 3, 4])"
            ]
          },
          "metadata": {},
          "execution_count": 7
        }
      ]
    },
    {
      "cell_type": "code",
      "source": [],
      "metadata": {
        "id": "5gMutHhbf2i0"
      },
      "execution_count": null,
      "outputs": []
    },
    {
      "cell_type": "code",
      "source": [
        "# creating ones\n",
        "a=np.ones((2,2))\n",
        "a"
      ],
      "metadata": {
        "colab": {
          "base_uri": "https://localhost:8080/"
        },
        "id": "aZ0MqK7AdE0z",
        "outputId": "89255344-2ea0-43c6-b5aa-5a974b28a3b1"
      },
      "execution_count": null,
      "outputs": [
        {
          "output_type": "execute_result",
          "data": {
            "text/plain": [
              "array([[1., 1.],\n",
              "       [1., 1.]])"
            ]
          },
          "metadata": {},
          "execution_count": 8
        }
      ]
    },
    {
      "cell_type": "code",
      "source": [
        "# creating zero arrays\n",
        "a=np.zeros((2,2))\n",
        "a"
      ],
      "metadata": {
        "colab": {
          "base_uri": "https://localhost:8080/"
        },
        "id": "3SWj_SetdQZ1",
        "outputId": "7d8db32e-1933-4660-d10b-1d80ecbe956e"
      },
      "execution_count": null,
      "outputs": [
        {
          "output_type": "execute_result",
          "data": {
            "text/plain": [
              "array([[0., 0.],\n",
              "       [0., 0.]])"
            ]
          },
          "metadata": {},
          "execution_count": 9
        }
      ]
    },
    {
      "cell_type": "code",
      "source": [
        "#creating by a range\n",
        "a=np.arange(1,100,3)\n",
        "a"
      ],
      "metadata": {
        "colab": {
          "base_uri": "https://localhost:8080/"
        },
        "id": "7MzMOaRAdVHu",
        "outputId": "0a431088-f144-4918-89fb-8ad7bdf1d5e2"
      },
      "execution_count": null,
      "outputs": [
        {
          "output_type": "execute_result",
          "data": {
            "text/plain": [
              "array([ 1,  4,  7, 10, 13, 16, 19, 22, 25, 28, 31, 34, 37, 40, 43, 46, 49,\n",
              "       52, 55, 58, 61, 64, 67, 70, 73, 76, 79, 82, 85, 88, 91, 94, 97])"
            ]
          },
          "metadata": {},
          "execution_count": 10
        }
      ]
    },
    {
      "cell_type": "code",
      "source": [
        "a= np.linspace(1,20,10)\n",
        "a"
      ],
      "metadata": {
        "colab": {
          "base_uri": "https://localhost:8080/"
        },
        "id": "JU5WkRJCdx96",
        "outputId": "5286780f-9a43-4403-abc5-6eabfbb598b1"
      },
      "execution_count": null,
      "outputs": [
        {
          "output_type": "execute_result",
          "data": {
            "text/plain": [
              "array([ 1.        ,  3.11111111,  5.22222222,  7.33333333,  9.44444444,\n",
              "       11.55555556, 13.66666667, 15.77777778, 17.88888889, 20.        ])"
            ]
          },
          "metadata": {},
          "execution_count": 13
        }
      ]
    },
    {
      "cell_type": "code",
      "source": [
        "A=np.eye(3,3)\n",
        "A"
      ],
      "metadata": {
        "colab": {
          "base_uri": "https://localhost:8080/"
        },
        "id": "XKu7ZsFpeJoH",
        "outputId": "5df4fcf2-4871-49ce-ad5e-0e2c36706508"
      },
      "execution_count": null,
      "outputs": [
        {
          "output_type": "execute_result",
          "data": {
            "text/plain": [
              "array([[1., 0., 0.],\n",
              "       [0., 1., 0.],\n",
              "       [0., 0., 1.]])"
            ]
          },
          "metadata": {},
          "execution_count": 14
        }
      ]
    },
    {
      "cell_type": "code",
      "source": [
        "#shape of the array\n",
        "A.shape"
      ],
      "metadata": {
        "colab": {
          "base_uri": "https://localhost:8080/"
        },
        "id": "79cYASCVek7n",
        "outputId": "b3f65063-2d86-4127-f597-40e4d1cc761c"
      },
      "execution_count": null,
      "outputs": [
        {
          "output_type": "execute_result",
          "data": {
            "text/plain": [
              "(3, 3)"
            ]
          },
          "metadata": {},
          "execution_count": 15
        }
      ]
    },
    {
      "cell_type": "code",
      "source": [
        "# dimesions of an array\n",
        "A.ndim"
      ],
      "metadata": {
        "colab": {
          "base_uri": "https://localhost:8080/"
        },
        "id": "AxMx1tx4epX3",
        "outputId": "26630bc6-3660-40cf-93f6-72197fc39bd2"
      },
      "execution_count": null,
      "outputs": [
        {
          "output_type": "execute_result",
          "data": {
            "text/plain": [
              "2"
            ]
          },
          "metadata": {},
          "execution_count": 16
        }
      ]
    },
    {
      "cell_type": "code",
      "source": [
        "# size of an Array\n",
        "A.size"
      ],
      "metadata": {
        "colab": {
          "base_uri": "https://localhost:8080/"
        },
        "id": "MNrnYwAYeuwV",
        "outputId": "29b2f6b5-774d-4346-ae14-b8863f00fb9b"
      },
      "execution_count": null,
      "outputs": [
        {
          "output_type": "execute_result",
          "data": {
            "text/plain": [
              "9"
            ]
          },
          "metadata": {},
          "execution_count": 18
        }
      ]
    },
    {
      "cell_type": "code",
      "source": [
        "#type of an Array\n",
        "A.dtype"
      ],
      "metadata": {
        "colab": {
          "base_uri": "https://localhost:8080/"
        },
        "id": "NZ_qzYV_e-TE",
        "outputId": "13d0c7dd-441d-448b-ddb8-d3bb6c387dab"
      },
      "execution_count": null,
      "outputs": [
        {
          "output_type": "execute_result",
          "data": {
            "text/plain": [
              "dtype('float64')"
            ]
          },
          "metadata": {},
          "execution_count": 19
        }
      ]
    },
    {
      "cell_type": "markdown",
      "source": [
        "BASIC ARITHMETIC OPERATIONS"
      ],
      "metadata": {
        "id": "hXdN-MS1iP9t"
      }
    },
    {
      "cell_type": "code",
      "source": [
        "#adding\n",
        "B=np.add(A,5)\n",
        "B"
      ],
      "metadata": {
        "colab": {
          "base_uri": "https://localhost:8080/"
        },
        "id": "jPNX4wX7fJDQ",
        "outputId": "266cce60-8642-4937-8231-fa07ff7f7ea5"
      },
      "execution_count": null,
      "outputs": [
        {
          "output_type": "execute_result",
          "data": {
            "text/plain": [
              "array([[6., 5., 5.],\n",
              "       [5., 6., 5.],\n",
              "       [5., 5., 6.]])"
            ]
          },
          "metadata": {},
          "execution_count": 20
        }
      ]
    },
    {
      "cell_type": "code",
      "source": [
        "#subtracting\n",
        "B=np.subtract(A,5)\n",
        "B"
      ],
      "metadata": {
        "colab": {
          "base_uri": "https://localhost:8080/"
        },
        "id": "SNCWEKZ6flar",
        "outputId": "8b100d8c-a6e1-4b76-fdcf-9baefffc1ebc"
      },
      "execution_count": null,
      "outputs": [
        {
          "output_type": "execute_result",
          "data": {
            "text/plain": [
              "array([[-4., -5., -5.],\n",
              "       [-5., -4., -5.],\n",
              "       [-5., -5., -4.]])"
            ]
          },
          "metadata": {},
          "execution_count": 21
        }
      ]
    },
    {
      "cell_type": "code",
      "source": [
        "#multiplication\n",
        "B=np.multiply(B,-1)\n",
        "B"
      ],
      "metadata": {
        "colab": {
          "base_uri": "https://localhost:8080/"
        },
        "id": "ZY2NTZPefxow",
        "outputId": "97db7551-f287-4f04-e7d3-fa6605b08c93"
      },
      "execution_count": null,
      "outputs": [
        {
          "output_type": "execute_result",
          "data": {
            "text/plain": [
              "array([[4., 5., 5.],\n",
              "       [5., 4., 5.],\n",
              "       [5., 5., 4.]])"
            ]
          },
          "metadata": {},
          "execution_count": 22
        }
      ]
    },
    {
      "cell_type": "code",
      "source": [
        "#division\n",
        "B=np.divide(B,5)\n",
        "B"
      ],
      "metadata": {
        "colab": {
          "base_uri": "https://localhost:8080/"
        },
        "id": "0Ku4RSXwf8hu",
        "outputId": "097c32b4-7fc6-4878-a6c4-0a864d467911"
      },
      "execution_count": null,
      "outputs": [
        {
          "output_type": "execute_result",
          "data": {
            "text/plain": [
              "array([[0.8, 1. , 1. ],\n",
              "       [1. , 0.8, 1. ],\n",
              "       [1. , 1. , 0.8]])"
            ]
          },
          "metadata": {},
          "execution_count": 23
        }
      ]
    },
    {
      "cell_type": "code",
      "source": [
        "#dot operation\n",
        "C=np.dot(A,B)\n",
        "C"
      ],
      "metadata": {
        "colab": {
          "base_uri": "https://localhost:8080/"
        },
        "id": "xy1FjnMFgD-3",
        "outputId": "a0279f26-3a7e-4124-8fb5-10131aea83a9"
      },
      "execution_count": null,
      "outputs": [
        {
          "output_type": "execute_result",
          "data": {
            "text/plain": [
              "array([[0.8, 1. , 1. ],\n",
              "       [1. , 0.8, 1. ],\n",
              "       [1. , 1. , 0.8]])"
            ]
          },
          "metadata": {},
          "execution_count": 29
        }
      ]
    },
    {
      "cell_type": "code",
      "source": [
        "#reshaping of an array\n",
        "C = C.reshape(9,1)\n",
        "C"
      ],
      "metadata": {
        "colab": {
          "base_uri": "https://localhost:8080/"
        },
        "id": "j3o0qcRyg9eS",
        "outputId": "857358b2-9844-4b80-c8bc-7b0bcfb36bd3"
      },
      "execution_count": null,
      "outputs": [
        {
          "output_type": "execute_result",
          "data": {
            "text/plain": [
              "array([[0.8],\n",
              "       [1. ],\n",
              "       [1. ],\n",
              "       [1. ],\n",
              "       [0.8],\n",
              "       [1. ],\n",
              "       [1. ],\n",
              "       [1. ],\n",
              "       [0.8]])"
            ]
          },
          "metadata": {},
          "execution_count": 30
        }
      ]
    },
    {
      "cell_type": "code",
      "source": [
        "#concatenating two arrays using concatenate function\n",
        "A= np.array([1,2,3])\n",
        "C = np.array([4,5,6])\n",
        "D=np.concatenate((A,C),axis=0)"
      ],
      "metadata": {
        "id": "RSCOlTMYh_Ha"
      },
      "execution_count": null,
      "outputs": []
    },
    {
      "cell_type": "code",
      "source": [
        "#splitting\n",
        "D=np.split(D,2)\n",
        "D"
      ],
      "metadata": {
        "colab": {
          "base_uri": "https://localhost:8080/"
        },
        "id": "88vkNnQwiypN",
        "outputId": "4637a1b9-a114-498b-e564-ae5a09e50f3c"
      },
      "execution_count": null,
      "outputs": [
        {
          "output_type": "execute_result",
          "data": {
            "text/plain": [
              "[array([1, 2, 3]), array([4, 5, 6])]"
            ]
          },
          "metadata": {},
          "execution_count": 32
        }
      ]
    },
    {
      "cell_type": "code",
      "source": [
        "#transpose of an Array\n",
        "C = np.array([[4,5,6],[7,8,9]])\n",
        "C=np.transpose(C)\n",
        "C"
      ],
      "metadata": {
        "colab": {
          "base_uri": "https://localhost:8080/"
        },
        "id": "yNgKAsuMkMna",
        "outputId": "3e5c7909-1104-45f4-c766-54b1efd9e9ff"
      },
      "execution_count": null,
      "outputs": [
        {
          "output_type": "execute_result",
          "data": {
            "text/plain": [
              "array([[4, 7],\n",
              "       [5, 8],\n",
              "       [6, 9]])"
            ]
          },
          "metadata": {},
          "execution_count": 33
        }
      ]
    },
    {
      "cell_type": "markdown",
      "source": [
        "MATHEMATICAL OPERATIONS"
      ],
      "metadata": {
        "id": "ZO9dXtzZlcWk"
      }
    },
    {
      "cell_type": "code",
      "source": [
        "#sum\n",
        "A=np.array([1,2,3,4,5,6,7])\n",
        "np.sum(A)"
      ],
      "metadata": {
        "colab": {
          "base_uri": "https://localhost:8080/"
        },
        "id": "mTohmZdKk2-s",
        "outputId": "1cdb38d4-0ce5-4805-de1f-2038147a7030"
      },
      "execution_count": null,
      "outputs": [
        {
          "output_type": "execute_result",
          "data": {
            "text/plain": [
              "28"
            ]
          },
          "metadata": {},
          "execution_count": 34
        }
      ]
    },
    {
      "cell_type": "code",
      "source": [
        "#mean\n",
        "np.mean(A)"
      ],
      "metadata": {
        "colab": {
          "base_uri": "https://localhost:8080/"
        },
        "id": "2zCgssE1lR6k",
        "outputId": "ff2d8932-9292-4a75-a504-fc4599047bf1"
      },
      "execution_count": null,
      "outputs": [
        {
          "output_type": "execute_result",
          "data": {
            "text/plain": [
              "4.0"
            ]
          },
          "metadata": {},
          "execution_count": 35
        }
      ]
    },
    {
      "cell_type": "code",
      "source": [
        "#median\n",
        "np.median(A)"
      ],
      "metadata": {
        "colab": {
          "base_uri": "https://localhost:8080/"
        },
        "id": "3R_tdS1VlVF5",
        "outputId": "bacc44ae-db67-42dc-c8c7-762560aa72c3"
      },
      "execution_count": null,
      "outputs": [
        {
          "output_type": "execute_result",
          "data": {
            "text/plain": [
              "4.0"
            ]
          },
          "metadata": {},
          "execution_count": 36
        }
      ]
    },
    {
      "cell_type": "code",
      "source": [
        "#standard deviation\n",
        "np.std(A)"
      ],
      "metadata": {
        "colab": {
          "base_uri": "https://localhost:8080/"
        },
        "id": "HU0R07j0ldVS",
        "outputId": "6d2b9b74-3bef-4445-cd46-e95118d4e047"
      },
      "execution_count": null,
      "outputs": [
        {
          "output_type": "execute_result",
          "data": {
            "text/plain": [
              "2.0"
            ]
          },
          "metadata": {},
          "execution_count": 38
        }
      ]
    },
    {
      "cell_type": "code",
      "source": [
        "#minimum value of an array\n",
        "np.min(A)"
      ],
      "metadata": {
        "colab": {
          "base_uri": "https://localhost:8080/"
        },
        "id": "CfEbbkm7llB9",
        "outputId": "4f4a6bf1-2d66-4eae-a095-a0f3d3a6e2b4"
      },
      "execution_count": null,
      "outputs": [
        {
          "output_type": "execute_result",
          "data": {
            "text/plain": [
              "1"
            ]
          },
          "metadata": {},
          "execution_count": 39
        }
      ]
    },
    {
      "cell_type": "code",
      "source": [
        "#maximum value of an array\n",
        "np.max(A)"
      ],
      "metadata": {
        "colab": {
          "base_uri": "https://localhost:8080/"
        },
        "id": "zlWQkdhXlppd",
        "outputId": "37c137f2-3d07-4eba-e7d1-9258517ee77d"
      },
      "execution_count": null,
      "outputs": [
        {
          "output_type": "execute_result",
          "data": {
            "text/plain": [
              "7"
            ]
          },
          "metadata": {},
          "execution_count": 40
        }
      ]
    },
    {
      "cell_type": "markdown",
      "source": [
        "TRIGONOMETRIC FUNCTIONS"
      ],
      "metadata": {
        "id": "cXxOLV92l4M_"
      }
    },
    {
      "cell_type": "code",
      "source": [
        "# sin value of an array\n",
        "np.sin(A)"
      ],
      "metadata": {
        "colab": {
          "base_uri": "https://localhost:8080/"
        },
        "id": "QiePyMZOlt4D",
        "outputId": "2c6b1d1c-f889-4c5a-a0ef-b9cc0be3b31c"
      },
      "execution_count": null,
      "outputs": [
        {
          "output_type": "execute_result",
          "data": {
            "text/plain": [
              "array([ 0.84147098,  0.90929743,  0.14112001, -0.7568025 , -0.95892427,\n",
              "       -0.2794155 ,  0.6569866 ])"
            ]
          },
          "metadata": {},
          "execution_count": 42
        }
      ]
    },
    {
      "cell_type": "code",
      "source": [
        "\n",
        "#cos value of an array\n",
        "np.cos(A)"
      ],
      "metadata": {
        "colab": {
          "base_uri": "https://localhost:8080/"
        },
        "id": "ZGMb4yT4l_za",
        "outputId": "051369a4-0e06-4b1d-a72a-7bd088f7b759"
      },
      "execution_count": null,
      "outputs": [
        {
          "output_type": "execute_result",
          "data": {
            "text/plain": [
              "array([ 0.54030231, -0.41614684, -0.9899925 , -0.65364362,  0.28366219,\n",
              "        0.96017029,  0.75390225])"
            ]
          },
          "metadata": {},
          "execution_count": 43
        }
      ]
    },
    {
      "cell_type": "code",
      "source": [
        "#tan value of an array\n",
        "np.tan(A)"
      ],
      "metadata": {
        "colab": {
          "base_uri": "https://localhost:8080/"
        },
        "id": "JQvPFgxcmIC8",
        "outputId": "efc3f8b8-841d-4837-dfc4-e8619dd4bb1f"
      },
      "execution_count": null,
      "outputs": [
        {
          "output_type": "execute_result",
          "data": {
            "text/plain": [
              "array([ 1.55740772, -2.18503986, -0.14254654,  1.15782128, -3.38051501,\n",
              "       -0.29100619,  0.87144798])"
            ]
          },
          "metadata": {},
          "execution_count": 46
        }
      ]
    },
    {
      "cell_type": "code",
      "source": [
        "#arcsin\n",
        "np.arcsin(A)"
      ],
      "metadata": {
        "colab": {
          "base_uri": "https://localhost:8080/"
        },
        "id": "gWHZJlC6mKnm",
        "outputId": "e778420d-19d9-44c5-d634-e9e7bd400039"
      },
      "execution_count": null,
      "outputs": [
        {
          "output_type": "stream",
          "name": "stderr",
          "text": [
            "<ipython-input-47-a38cc5dbe0ba>:2: RuntimeWarning: invalid value encountered in arcsin\n",
            "  np.arcsin(A)\n"
          ]
        },
        {
          "output_type": "execute_result",
          "data": {
            "text/plain": [
              "array([1.57079633,        nan,        nan,        nan,        nan,\n",
              "              nan,        nan])"
            ]
          },
          "metadata": {},
          "execution_count": 47
        }
      ]
    },
    {
      "cell_type": "code",
      "source": [
        "#arc cos\n",
        "np.arccos(A)"
      ],
      "metadata": {
        "colab": {
          "base_uri": "https://localhost:8080/"
        },
        "id": "jU_yJZYcmPfz",
        "outputId": "8ca74255-7040-41eb-a74d-3972aad80dd4"
      },
      "execution_count": null,
      "outputs": [
        {
          "output_type": "stream",
          "name": "stderr",
          "text": [
            "<ipython-input-48-a76bdbef20f1>:2: RuntimeWarning: invalid value encountered in arccos\n",
            "  np.arccos(A)\n"
          ]
        },
        {
          "output_type": "execute_result",
          "data": {
            "text/plain": [
              "array([ 0., nan, nan, nan, nan, nan, nan])"
            ]
          },
          "metadata": {},
          "execution_count": 48
        }
      ]
    },
    {
      "cell_type": "code",
      "source": [
        "#arc tan\n",
        "np.arctan(A)"
      ],
      "metadata": {
        "colab": {
          "base_uri": "https://localhost:8080/"
        },
        "id": "FffUxlMqmYlS",
        "outputId": "a540348e-0d06-4ea3-bab6-8d3c34d34c79"
      },
      "execution_count": null,
      "outputs": [
        {
          "output_type": "execute_result",
          "data": {
            "text/plain": [
              "array([0.78539816, 1.10714872, 1.24904577, 1.32581766, 1.37340077,\n",
              "       1.40564765, 1.42889927])"
            ]
          },
          "metadata": {},
          "execution_count": 49
        }
      ]
    },
    {
      "cell_type": "markdown",
      "source": [
        "RANDOM FUNCTIONS"
      ],
      "metadata": {
        "id": "LqjCdbrumafi"
      }
    },
    {
      "cell_type": "code",
      "source": [
        "#random\n",
        "Z= np.random.rand(2,2)\n",
        "Z"
      ],
      "metadata": {
        "colab": {
          "base_uri": "https://localhost:8080/"
        },
        "id": "a8KGVFDamjRl",
        "outputId": "5c514f70-cfc4-4abb-ad84-95245a534b87"
      },
      "execution_count": null,
      "outputs": [
        {
          "output_type": "execute_result",
          "data": {
            "text/plain": [
              "array([[0.06749965, 0.82309323],\n",
              "       [0.00448771, 0.47533665]])"
            ]
          },
          "metadata": {},
          "execution_count": 54
        }
      ]
    },
    {
      "cell_type": "code",
      "source": [
        "Z=np.random.randn(2,2)\n",
        "Z"
      ],
      "metadata": {
        "colab": {
          "base_uri": "https://localhost:8080/"
        },
        "id": "a1lILSwWm2ij",
        "outputId": "2345b856-d81f-4850-e673-ef899ef68175"
      },
      "execution_count": null,
      "outputs": [
        {
          "output_type": "execute_result",
          "data": {
            "text/plain": [
              "array([[-0.10786942,  0.22757177],\n",
              "       [ 1.05886331, -0.19270847]])"
            ]
          },
          "metadata": {},
          "execution_count": 57
        }
      ]
    },
    {
      "cell_type": "code",
      "source": [
        "#random range\n",
        "Z=np.random.randint(1,4)\n",
        "Z"
      ],
      "metadata": {
        "colab": {
          "base_uri": "https://localhost:8080/"
        },
        "id": "ncmJ-9ZMm9cl",
        "outputId": "15ed2745-dd97-4df6-83ec-db2d564f8edb"
      },
      "execution_count": null,
      "outputs": [
        {
          "output_type": "execute_result",
          "data": {
            "text/plain": [
              "3"
            ]
          },
          "metadata": {},
          "execution_count": 50
        }
      ]
    },
    {
      "cell_type": "code",
      "source": [
        "#shuffle\n",
        "np.random.shuffle([1,2,3])"
      ],
      "metadata": {
        "id": "geHsQNurnWbS"
      },
      "execution_count": null,
      "outputs": []
    }
  ]
}